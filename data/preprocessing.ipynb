{
 "cells": [
  {
   "cell_type": "markdown",
   "metadata": {},
   "source": [
    "# Preprocessing Enron Dataset\n",
    "*Convert the current csv file to a json file with a structure ready for visualisation.*"
   ]
  },
  {
   "cell_type": "markdown",
   "metadata": {},
   "source": [
    "## Convert to a convenient structure \n",
    "Each line in the csv file is a (message, recipient) combination, assuming a message does not contain duplicate recipients. I want to have a hierarchical structure:\n",
    "```\n",
    "array of threads: [thread_1, ..., thread_n], each thread has threadId, and\n",
    "array of messages: [message_1, ..., message_m], each message has messageId, subject, sender, times, and \n",
    "array of recipients: [rec_1, ..., rec_k], each recipient has email and type\n",
    "\n",
    "[\n",
    "    { \n",
    "        threadId: e94a22508dac953,\n",
    "        messages: [\n",
    "            {\n",
    "                messageId: e94a22508dac953,\n",
    "                subject: FW: LINE SM-123,\n",
    "                sender: victor.lamadrid@enron.com,\n",
    "                time: 2001-10-01T14:19:03-07:00,\n",
    "                recipients: [\n",
    "                    { email: john.hodge@enron.com, type: to },\n",
    "                    { email: john.singer@enron.com, type: cc },\n",
    "                    { email: scott.neal@enron.com, type: bc },\n",
    "                    { email: clarissa.garcia@enron.com, type: to }\n",
    "                ]\n",
    "            }\n",
    "        ]\n",
    "    }\n",
    "]\n",
    "```"
   ]
  },
  {
   "cell_type": "code",
   "execution_count": null,
   "metadata": {},
   "outputs": [],
   "source": [
    "input_file = 'enronThread2001.csv'\n",
    "output_file = 'enronThread2001.json'"
   ]
  },
  {
   "cell_type": "code",
   "execution_count": null,
   "metadata": {},
   "outputs": [],
   "source": [
    "import pandas as pd\n",
    "import pprint\n",
    "import json"
   ]
  },
  {
   "cell_type": "code",
   "execution_count": null,
   "metadata": {
    "scrolled": true
   },
   "outputs": [],
   "source": [
    "df = pd.read_csv(input_file)\n",
    "df.head()"
   ]
  },
  {
   "cell_type": "code",
   "execution_count": null,
   "metadata": {},
   "outputs": [],
   "source": [
    "def make_thread(tid, df):\n",
    "    'Return data representing a thread.'\n",
    "    message_groups = df[df['TID'] == tid].groupby('MID').groups\n",
    "    messages = [make_message(mid, indices, df) for mid, indices in message_groups.items()]\n",
    "    \n",
    "    # Filter out duplicate messages: different IDs but from the same person at the same time\n",
    "    # Use a set to keep track of unique combinations: sender-timestamp\n",
    "    added_ids = set()\n",
    "    \n",
    "    def check_unique(m):\n",
    "        id = make_combined_id(m)\n",
    "        if id not in added_ids:\n",
    "            added_ids.add(id)\n",
    "            return True\n",
    "        return False\n",
    "\n",
    "    unique_messages = [m for m in messages if check_unique(m)]            \n",
    "    \n",
    "    return {\n",
    "        'threadId': tid,\n",
    "        'messages': unique_messages\n",
    "    }\n",
    "\n",
    "def make_message(mid, indices, df):\n",
    "    return {\n",
    "        'messageId': mid.strip(),\n",
    "        'subject': df['SUBJECT'][indices[0]].strip().replace('\\\"', ''),\n",
    "        'sender': df['FROM'][indices[0]].strip(),\n",
    "        'time': df['TIMESTAMP'][indices[0]].strip(),\n",
    "        'recipients': [make_recipient(idx, df) for idx in indices]\n",
    "    }\n",
    "\n",
    "def make_recipient(index, df):\n",
    "    return {\n",
    "        'email': df['TO'][index],\n",
    "        'type': df['TYPE'][index]\n",
    "    }\n",
    "\n",
    "def make_combined_id(message):\n",
    "    return message['sender'] + '-' + message['time']"
   ]
  },
  {
   "cell_type": "markdown",
   "metadata": {},
   "source": [
    "Save to data files."
   ]
  },
  {
   "cell_type": "code",
   "execution_count": null,
   "metadata": {
    "scrolled": false
   },
   "outputs": [],
   "source": [
    "threads = [make_thread(tid, df) for tid in df.groupby('TID').groups.keys()]\n",
    "with open(output_file, 'w') as f:\n",
    "    json.dump(threads, f)"
   ]
  },
  {
   "cell_type": "markdown",
   "metadata": {},
   "source": [
    "## Reload the full file to do further processing"
   ]
  },
  {
   "cell_type": "code",
   "execution_count": 1,
   "metadata": {},
   "outputs": [],
   "source": [
    "import json\n",
    "# Retrieve top long messages from [start, end)\n",
    "start = 0\n",
    "end = 100"
   ]
  },
  {
   "cell_type": "code",
   "execution_count": 2,
   "metadata": {},
   "outputs": [],
   "source": [
    "data = json.load(open('enronThread2001.json'))\n",
    "data.sort(key=lambda x: -len(x['messages']))\n",
    "data = data[start:end]"
   ]
  },
  {
   "cell_type": "markdown",
   "metadata": {},
   "source": [
    "There's a problem with email of recipients. There are some emails as `nan`. Replace them with text."
   ]
  },
  {
   "cell_type": "code",
   "execution_count": 3,
   "metadata": {},
   "outputs": [],
   "source": [
    "for t in data:\n",
    "    for m in t['messages']:\n",
    "        for r in m['recipients']:\n",
    "            if type(r['email']) == float:\n",
    "                r['email'] = ''"
   ]
  },
  {
   "cell_type": "markdown",
   "metadata": {},
   "source": [
    "Add message body from the database."
   ]
  },
  {
   "cell_type": "code",
   "execution_count": 4,
   "metadata": {},
   "outputs": [],
   "source": [
    "import mysql.connector"
   ]
  },
  {
   "cell_type": "code",
   "execution_count": 5,
   "metadata": {},
   "outputs": [],
   "source": [
    "cnx = mysql.connector.connect(user='root', password='', host='127.0.0.1', database='enron')\n",
    "cursor = cnx.cursor()"
   ]
  },
  {
   "cell_type": "code",
   "execution_count": 6,
   "metadata": {},
   "outputs": [],
   "source": [
    "def find_message_body(sender, time):\n",
    "    query = 'select body from message where sender=\"{}\" and date=\"{}\"'.format(sender, time)\n",
    "    cursor.execute(query)\n",
    "    result = cursor.fetchone()\n",
    "    return result[0] if result else ''"
   ]
  },
  {
   "cell_type": "markdown",
   "metadata": {},
   "source": [
    "Have no idea why do I need to create a new cursor. With only one cursor, it stops at 80th message."
   ]
  },
  {
   "cell_type": "code",
   "execution_count": 7,
   "metadata": {},
   "outputs": [],
   "source": [
    "for i, t in enumerate(data):\n",
    "    for j, m in enumerate(t['messages']):\n",
    "        cnx = mysql.connector.connect(user='root', password='', host='127.0.0.1', database='enron')\n",
    "        cursor = cnx.cursor()\n",
    "#         print(i, j)\n",
    "        m['body'] = find_message_body(m['sender'], m['time'])"
   ]
  },
  {
   "cell_type": "code",
   "execution_count": 8,
   "metadata": {},
   "outputs": [],
   "source": [
    "with open('threads-{}-{}.json'.format(start, end), 'w') as f:\n",
    "    json.dump(data, f)"
   ]
  }
 ],
 "metadata": {
  "kernelspec": {
   "display_name": "Python 3",
   "language": "python",
   "name": "python3"
  },
  "language_info": {
   "codemirror_mode": {
    "name": "ipython",
    "version": 3
   },
   "file_extension": ".py",
   "mimetype": "text/x-python",
   "name": "python",
   "nbconvert_exporter": "python",
   "pygments_lexer": "ipython3",
   "version": "3.6.4"
  },
  "toc": {
   "base_numbering": 1,
   "nav_menu": {},
   "number_sections": true,
   "sideBar": true,
   "skip_h1_title": true,
   "title_cell": "Contents",
   "title_sidebar": "Contents",
   "toc_cell": false,
   "toc_position": {},
   "toc_section_display": true,
   "toc_window_display": true
  }
 },
 "nbformat": 4,
 "nbformat_minor": 2
}
